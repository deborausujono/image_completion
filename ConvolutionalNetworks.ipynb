{
 "cells": [
  {
   "cell_type": "markdown",
   "metadata": {},
   "source": [
    "# Convolutional Networks\n",
    "So far we have worked with deep fully-connected networks, using them to explore different optimization strategies and network architectures. Fully-connected networks are a good testbed for experimentation because they are very computationally efficient, but in practice all state-of-the-art results use convolutional networks instead.\n",
    "\n",
    "First you will implement several layer types that are used in convolutional networks. You will then use these layers to train a convolutional network on the CIFAR-10 dataset."
   ]
  },
  {
   "cell_type": "code",
   "execution_count": 5,
   "metadata": {
    "collapsed": false
   },
   "outputs": [
    {
     "name": "stdout",
     "output_type": "stream",
     "text": [
      "The autoreload extension is already loaded. To reload it, use:\n",
      "  %reload_ext autoreload\n"
     ]
    }
   ],
   "source": [
    "# As usual, a bit of setup\n",
    "\n",
    "import numpy as np\n",
    "import matplotlib.pyplot as plt\n",
    "from code.classifiers.cnn import *\n",
    "from code.data_utils import get_CIFAR10_data\n",
    "from code.gradient_check import eval_numerical_gradient_array, eval_numerical_gradient\n",
    "from code.layers import *\n",
    "from code.fast_layers import *\n",
    "from code.solver import Solver\n",
    "\n",
    "%matplotlib inline\n",
    "plt.rcParams['figure.figsize'] = (10.0, 8.0) # set default size of plots\n",
    "plt.rcParams['image.interpolation'] = 'nearest'\n",
    "plt.rcParams['image.cmap'] = 'gray'\n",
    "\n",
    "# for auto-reloading external modules\n",
    "# see http://stackoverflow.com/questions/1907993/autoreload-of-modules-in-ipython\n",
    "%load_ext autoreload\n",
    "%autoreload 2\n",
    "\n",
    "def rel_error(x, y):\n",
    "  \"\"\" returns relative error \"\"\"\n",
    "  return np.max(np.abs(x - y) / (np.maximum(1e-8, np.abs(x) + np.abs(y))))"
   ]
  },
  {
   "cell_type": "code",
   "execution_count": 29,
   "metadata": {
    "collapsed": false
   },
   "outputs": [
    {
     "name": "stdout",
     "output_type": "stream",
     "text": [
      "[[[[  40.35810204   38.94430612   37.03944898 ...,   52.08416327\n",
      "      49.74489796   50.94502041]\n",
      "   [  39.97585714   38.73944898   36.86344898 ...,   56.07028571\n",
      "      52.7807551    50.94636735]\n",
      "   [  41.33663265   39.34353061   38.58165306 ...,   52.87120408\n",
      "      51.48989796   50.48187755]\n",
      "   ..., \n",
      "   [ -13.53626531   -9.56961224   -6.90812245 ...,   -5.28104082\n",
      "      -4.71422449   -6.54308163]\n",
      "   [ -16.05942857  -13.44416327  -12.2555102  ...,   -9.53432653\n",
      "     -10.6054898   -13.01536735]\n",
      "   [ -25.73597959  -22.58926531  -21.85330612 ...,  -15.8035102\n",
      "     -16.56571429  -15.64218367]]\n",
      "\n",
      "  [[  51.01826531   51.65195918   50.85671429 ...,   57.82467347\n",
      "      54.4197551    56.63465306]\n",
      "   [  48.78316327   49.63691837   49.91895918 ...,   54.96422449   54.544\n",
      "      55.70804082]\n",
      "   [  50.41510204   50.57302041   51.01312245 ...,   55.11087755\n",
      "      54.52940816   56.50165306]\n",
      "   ..., \n",
      "   [   7.06446939   11.28759184   14.21993878 ...,   18.95071429\n",
      "      18.22269388   16.1052449 ]\n",
      "   [   4.63295918    6.44293878    7.84238776 ...,   13.61495918\n",
      "      12.32565306    9.68942857]\n",
      "   [  -5.95240816   -2.64944898   -0.75191837 ...,    7.26855102\n",
      "       6.37042857    7.13804082]]\n",
      "\n",
      "  [[  81.52608163   82.24597959   81.52363265 ...,   79.70193878\n",
      "      77.1307551    78.21483673]\n",
      "   [  79.72267347   79.63771429   79.00018367 ...,   79.21777551\n",
      "      77.61238776   78.64302041]\n",
      "   [  80.81738776   80.05812245   80.59912245 ...,   79.79559184\n",
      "      78.02171429   78.84563265]\n",
      "   ..., \n",
      "   [  34.86355102   39.22930612   42.274      ...,   44.08228571\n",
      "      44.21557143   41.86181633]\n",
      "   [  32.35404082   34.32144898   35.84595918 ...,   39.70189796\n",
      "      38.25883673   35.37018367]\n",
      "   [  20.54336735   24.02361224   25.05283673 ...,   33.137        32.08042857\n",
      "      32.60042857]]]\n",
      "\n",
      "\n",
      " [[[ 124.35810204  123.94430612  120.03944898 ...,  123.08416327\n",
      "     122.74489796  124.94502041]\n",
      "   [ 123.97585714  123.73944898  122.86344898 ...,  123.07028571\n",
      "     122.7807551   125.94636735]\n",
      "   [ 125.33663265  124.34353061  124.58165306 ...,  124.87120408\n",
      "     125.48989796  126.48187755]\n",
      "   ..., \n",
      "   [ 128.46373469  129.43038776  130.09187755 ...,  129.71895918\n",
      "     129.28577551  129.45691837]\n",
      "   [ 127.94057143  128.55583673  128.7444898  ...,  128.46567347\n",
      "     128.3945102   128.98463265]\n",
      "   [ 127.26402041  127.41073469  127.14669388 ...,  127.1964898\n",
      "     127.43428571  128.35781633]]\n",
      "\n",
      "  [[ 119.01826531  116.65195918  115.85671429 ...,  117.82467347\n",
      "     117.4197551   119.63465306]\n",
      "   [ 119.78316327  118.63691837  116.91895918 ...,  117.96422449  117.544\n",
      "     120.70804082]\n",
      "   [ 120.41510204  119.57302041  120.01312245 ...,  120.11087755\n",
      "     120.52940816  121.50165306]\n",
      "   ..., \n",
      "   [ 129.06446939  130.28759184  131.21993878 ...,  130.95071429\n",
      "     130.22269388  130.1052449 ]\n",
      "   [ 128.63295918  129.44293878  129.84238776 ...,  129.61495918\n",
      "     129.32565306  129.68942857]\n",
      "   [ 128.04759184  128.35055102  128.24808163 ...,  128.26855102\n",
      "     128.37042857  129.13804082]]\n",
      "\n",
      "  [[ 117.52608163  118.24597959  121.52363265 ...,  121.70193878\n",
      "     121.1307551   123.21483673]\n",
      "   [ 120.72267347  116.63771429  119.00018367 ...,  122.21777551\n",
      "     121.61238776  124.64302041]\n",
      "   [ 124.81738776  123.05812245  118.59912245 ...,  124.79559184\n",
      "     125.02171429  125.84563265]\n",
      "   ..., \n",
      "   [ 140.86355102  142.22930612  143.274      ...,  143.08228571\n",
      "     142.21557143  141.86181633]\n",
      "   [ 140.35404082  141.32144898  141.84595918 ...,  141.70189796\n",
      "     141.25883673  141.37018367]\n",
      "   [ 139.54336735  140.02361224  140.05283673 ...,  140.137       140.08042857\n",
      "     140.60042857]]]\n",
      "\n",
      "\n",
      " [[[  23.35810204   26.94430612   24.03944898 ...,  -10.91583673\n",
      "      -5.25510204    1.94502041]\n",
      "   [  21.97585714   21.73944898   20.86344898 ...,  -11.92971429\n",
      "      -2.2192449    -3.05363265]\n",
      "   [  16.33663265   10.34353061   10.58165306 ...,   21.87120408\n",
      "      17.48989796   14.48187755]\n",
      "   ..., \n",
      "   [ -36.53626531  -46.56961224  -30.90812245 ...,   -4.28104082\n",
      "     -35.71422449  -60.54308163]\n",
      "   [ -43.05942857  -59.44416327  -39.2555102  ...,   31.46567347\n",
      "      10.3945102   -30.01536735]\n",
      "   [ -74.73597959  -54.58926531  -21.85330612 ...,    4.1964898\n",
      "     -11.56571429  -15.64218367]]\n",
      "\n",
      "  [[  10.01826531   17.65195918   16.85671429 ...,  -16.17532653\n",
      "      -9.5802449    -3.36534694]\n",
      "   [  10.78316327   14.63691837   14.91895918 ...,  -19.03577551   -8.456\n",
      "      -9.29195918]\n",
      "   [   8.41510204    5.57302041    8.01312245 ...,   13.11087755\n",
      "       9.52940816    5.50165306]\n",
      "   ..., \n",
      "   [ -35.93553061  -45.71240816  -29.78006122 ...,   -3.04928571\n",
      "     -34.77730612  -59.8947551 ]\n",
      "   [ -42.36704082  -58.55706122  -38.15761224 ...,   32.61495918\n",
      "      11.32565306  -29.31057143]\n",
      "   [ -73.95240816  -53.64944898  -20.75191837 ...,    5.26855102\n",
      "     -10.62957143  -14.86195918]]\n",
      "\n",
      "  [[  13.52608163   20.24597959   18.52363265 ...,  -12.29806122\n",
      "      -6.8692449     0.21483673]\n",
      "   [  14.72267347   16.63771429   17.00018367 ...,  -13.78222449\n",
      "      -4.38761224   -5.35697959]\n",
      "   [  11.81738776    8.05812245    9.59912245 ...,   18.79559184\n",
      "      15.02171429   10.84563265]\n",
      "   ..., \n",
      "   [ -24.13644898  -33.77069388  -17.726      ...,    9.08228571\n",
      "     -22.78442857  -48.13818367]\n",
      "   [ -30.64595918  -46.67855102  -26.15404082 ...,   44.70189796\n",
      "      23.25883673  -17.62981633]\n",
      "   [ -62.45663265  -41.97638776   -9.94716327 ...,   17.137         1.08042857\n",
      "      -3.39957143]]]\n",
      "\n",
      "\n",
      " ..., \n",
      " [[[ -95.64189796  -90.05569388  -88.96055102 ...,  -31.91583673\n",
      "     -51.25510204  -41.05497959]\n",
      "   [ -73.02414286  -85.26055102  -80.13655102 ...,   26.07028571\n",
      "      11.7807551   -13.05363265]\n",
      "   [ -31.66336735  -64.65646939  -60.41834694 ...,   58.87120408\n",
      "      -9.51010204  -67.51812245]\n",
      "   ..., \n",
      "   [ -53.53626531  -71.56961224  -69.90812245 ..., -107.28104082\n",
      "    -103.71422449  -92.54308163]\n",
      "   [ -66.05942857  -70.44416327  -68.2555102  ..., -101.53432653\n",
      "    -108.6054898  -119.01536735]\n",
      "   [ -83.73597959  -80.58926531  -77.85330612 ...,  -99.8035102\n",
      "    -105.56571429 -114.64218367]]\n",
      "\n",
      "  [[  42.01826531   40.65195918   39.85671429 ...,   40.82467347\n",
      "      11.4197551    12.63465306]\n",
      "   [  46.78316327   49.63691837   47.91895918 ...,   46.96422449   42.544\n",
      "      14.70804082]\n",
      "   [  62.41510204   55.57302041   58.01312245 ...,   61.11087755\n",
      "       1.52940816  -54.49834694]\n",
      "   ..., \n",
      "   [ -46.93553061  -60.71240816  -54.78006122 ...,  -83.04928571\n",
      "     -87.77730612  -76.8947551 ]\n",
      "   [ -58.36704082  -54.55706122  -45.15761224 ...,  -76.38504082\n",
      "     -89.67434694 -102.31057143]\n",
      "   [ -70.95240816  -59.64944898  -48.75191837 ...,  -73.73144898\n",
      "     -82.62957143  -94.86195918]]\n",
      "\n",
      "  [[ 102.52608163  107.24597959  108.52363265 ...,   86.70193878\n",
      "      65.1307551    57.21483673]\n",
      "   [ 102.72267347  119.63771429  109.00018367 ...,   69.21777551\n",
      "      75.61238776   44.64302041]\n",
      "   [ 106.81738776  123.05812245  115.59912245 ...,   76.79559184\n",
      "      18.02171429  -39.15436735]\n",
      "   ..., \n",
      "   [ -37.13644898  -43.77069388  -30.726      ...,  -46.91771429\n",
      "     -60.78442857  -64.13818367]\n",
      "   [ -39.64595918  -26.67855102   -9.15404082 ...,  -40.29810204\n",
      "     -59.74116327  -81.62981633]\n",
      "   [ -42.45663265  -25.97638776   -8.94716327 ...,  -36.863       -47.91957143\n",
      "     -64.39957143]]]\n",
      "\n",
      "\n",
      " [[[  58.35810204   55.94430612   54.03944898 ...,   44.08416327\n",
      "      41.74489796   38.94502041]\n",
      "   [  63.97585714   61.73944898   59.86344898 ...,   43.07028571\n",
      "      41.7807551    37.94636735]\n",
      "   [  78.33663265   76.34353061   74.58165306 ...,   45.87120408\n",
      "      43.48989796   40.48187755]\n",
      "   ..., \n",
      "   [  80.46373469   78.43038776   79.09187755 ...,   10.71895918\n",
      "      37.28577551   42.45691837]\n",
      "   [  70.94057143   63.55583673   54.7444898  ...,   52.46567347\n",
      "      49.3945102    48.98463265]\n",
      "   [  70.26402041   62.41073469   51.14669388 ...,   68.1964898\n",
      "      69.43428571   68.35781633]]\n",
      "\n",
      "  [[  75.01826531   72.65195918   70.85671429 ...,   58.82467347\n",
      "      58.4197551    58.63465306]\n",
      "   [  74.78316327   72.63691837   70.91895918 ...,   56.96422449   56.544\n",
      "      55.70804082]\n",
      "   [  84.41510204   82.57302041   81.01312245 ...,   57.11087755\n",
      "      56.52940816   57.50165306]\n",
      "   ..., \n",
      "   [  73.06446939   71.28759184   73.21993878 ...,    8.95071429\n",
      "      34.22269388   38.1052449 ]\n",
      "   [  63.63295918   56.44293878   47.84238776 ...,   46.61495918\n",
      "      44.32565306   43.68942857]\n",
      "   [  62.04759184   55.35055102   44.24808163 ...,   58.26855102\n",
      "      63.37042857   64.13804082]]\n",
      "\n",
      "  [[ 107.52608163  104.24597959  102.52363265 ...,   91.70193878\n",
      "      90.1307551    88.21483673]\n",
      "   [ 107.72267347  105.63771429  104.00018367 ...,   89.21777551\n",
      "      87.61238776   85.64302041]\n",
      "   [ 113.81738776  111.05812245  109.59912245 ...,   87.79559184\n",
      "      87.02171429   85.84563265]\n",
      "   ..., \n",
      "   [  66.86355102   63.22930612   62.274      ...,   16.08228571\n",
      "      38.21557143   37.86181633]\n",
      "   [  55.35404082   46.32144898   34.84595918 ...,   47.70189796\n",
      "      43.25883673   40.37018367]\n",
      "   [  57.54336735   48.02361224   35.05283673 ...,   55.137        57.08042857\n",
      "      56.60042857]]]\n",
      "\n",
      "\n",
      " [[[  98.35810204  105.94430612  103.03944898 ...,   86.08416327\n",
      "      90.74489796   91.94502041]\n",
      "   [  91.97585714  109.73944898  102.86344898 ...,   93.07028571\n",
      "      97.7807551    80.94636735]\n",
      "   [  83.33663265  105.34353061  101.58165306 ...,   90.87120408\n",
      "      91.48989796   73.48187755]\n",
      "   ..., \n",
      "   [  23.46373469   15.43038776    8.09187755 ...,   99.71895918\n",
      "     105.28577551  115.45691837]\n",
      "   [   9.94057143    4.55583673   -0.2555102  ...,   55.46567347\n",
      "      76.3945102    85.98463265]\n",
      "   [  -5.73597959   -8.58926531   -6.85330612 ...,   52.1964898\n",
      "      37.43428571   36.35781633]]\n",
      "\n",
      "  [[  93.01826531  101.65195918   99.85671429 ...,   82.82467347\n",
      "      87.4197551    87.63465306]\n",
      "   [  85.78316327  104.63691837   98.91895918 ...,   87.96422449   93.544\n",
      "      76.70804082]\n",
      "   [  71.41510204   98.57302041   99.01312245 ...,   86.11087755\n",
      "      85.52940816   69.50165306]\n",
      "   ..., \n",
      "   [  17.06446939   11.28759184    4.21993878 ...,   98.95071429\n",
      "     104.22269388  116.1052449 ]\n",
      "   [   5.63295918    2.44293878   -3.15761224 ...,   55.61495918\n",
      "      76.32565306   85.68942857]\n",
      "   [  -7.95240816   -9.64944898   -9.75191837 ...,   51.26855102\n",
      "      38.37042857   37.13804082]]\n",
      "\n",
      "  [[ 106.52608163  115.24597959  114.52363265 ...,  100.70193878\n",
      "     102.1307551   101.21483673]\n",
      "   [  97.72267347  118.63771429  115.00018367 ...,  105.21777551\n",
      "     107.61238776   89.64302041]\n",
      "   [  80.81738776  110.05812245  114.59912245 ...,  102.79559184\n",
      "     103.02171429   85.84563265]\n",
      "   ..., \n",
      "   [  20.86355102   15.22930612    9.274      ...,  107.08228571\n",
      "     113.21557143  124.86181633]\n",
      "   [  11.35404082    7.32144898    2.84595918 ...,   65.70189796\n",
      "      85.25883673   93.37018367]\n",
      "   [  -1.45663265   -3.97638776   -2.94716327 ...,   59.137        48.08042857\n",
      "      46.60042857]]]]\n"
     ]
    }
   ],
   "source": [
    "# Load the (preprocessed) CIFAR10 data.\n",
    "\n",
    "# data = get_CIFAR10_data()\n",
    "# for k, v in data.iteritems():\n",
    "#   print '%s: ' % k, v.shape\n",
    "\n",
    "print data['X_val']"
   ]
  },
  {
   "cell_type": "markdown",
   "metadata": {},
   "source": [
    "# Convolution: Naive forward pass\n",
    "The core of a convolutional network is the convolution operation. In the file `code/layers.py`, implement the forward pass for the convolution layer in the function `conv_forward_naive`. \n",
    "\n",
    "You don't have to worry too much about efficiency at this point; just write the code in whatever way you find most clear.\n",
    "\n",
    "You can test your implementation by running the following:"
   ]
  },
  {
   "cell_type": "code",
   "execution_count": 7,
   "metadata": {
    "collapsed": false
   },
   "outputs": [
    {
     "name": "stdout",
     "output_type": "stream",
     "text": [
      "Testing conv_forward_naive\n",
      "difference:  2.21214764175e-08\n"
     ]
    }
   ],
   "source": [
    "x_shape = (2, 3, 4, 4)\n",
    "w_shape = (3, 3, 4, 4)\n",
    "x = np.linspace(-0.1, 0.5, num=np.prod(x_shape)).reshape(x_shape)\n",
    "w = np.linspace(-0.2, 0.3, num=np.prod(w_shape)).reshape(w_shape)\n",
    "b = np.linspace(-0.1, 0.2, num=3)\n",
    "\n",
    "conv_param = {'stride': 2, 'pad': 1}\n",
    "out, _ = conv_forward_naive(x, w, b, conv_param)\n",
    "correct_out = np.array([[[[[-0.08759809, -0.10987781],\n",
    "                           [-0.18387192, -0.2109216 ]],\n",
    "                          [[ 0.21027089,  0.21661097],\n",
    "                           [ 0.22847626,  0.23004637]],\n",
    "                          [[ 0.50813986,  0.54309974],\n",
    "                           [ 0.64082444,  0.67101435]]],\n",
    "                         [[[-0.98053589, -1.03143541],\n",
    "                           [-1.19128892, -1.24695841]],\n",
    "                          [[ 0.69108355,  0.66880383],\n",
    "                           [ 0.59480972,  0.56776003]],\n",
    "                          [[ 2.36270298,  2.36904306],\n",
    "                           [ 2.38090835,  2.38247847]]]]])\n",
    "\n",
    "# Compare your output to ours; difference should be around 1e-8\n",
    "print 'Testing conv_forward_naive'\n",
    "print 'difference: ', rel_error(out, correct_out)"
   ]
  },
  {
   "cell_type": "markdown",
   "metadata": {},
   "source": [
    "# Aside: Image processing via convolutions\n",
    "\n",
    "As fun way to both check your implementation and gain a better understanding of the type of operation that convolutional layers can perform, we will set up an input containing two images and manually set up filters that perform common image processing operations (grayscale conversion and edge detection). The convolution forward pass will apply these operations to each of the input images. We can then visualize the results as a sanity check."
   ]
  },
  {
   "cell_type": "code",
   "execution_count": 8,
   "metadata": {
    "collapsed": false
   },
   "outputs": [
    {
     "name": "stdout",
     "output_type": "stream",
     "text": [
      "(266, 266, 3)\n"
     ]
    },
    {
     "ename": "NameError",
     "evalue": "name 'imshow_noax' is not defined",
     "output_type": "error",
     "traceback": [
      "\u001b[0;31m----------------------------------------------------------------------\u001b[0m",
      "\u001b[0;31mNameError\u001b[0m                            Traceback (most recent call last)",
      "\u001b[0;32m<ipython-input-8-d7c156418e96>\u001b[0m in \u001b[0;36m<module>\u001b[0;34m()\u001b[0m\n\u001b[1;32m     23\u001b[0m \u001b[0;31m# Show the original images and the results of the conv operation\u001b[0m\u001b[0;34m\u001b[0m\u001b[0;34m\u001b[0m\u001b[0m\n\u001b[1;32m     24\u001b[0m \u001b[0mplt\u001b[0m\u001b[0;34m.\u001b[0m\u001b[0msubplot\u001b[0m\u001b[0;34m(\u001b[0m\u001b[0;36m2\u001b[0m\u001b[0;34m,\u001b[0m \u001b[0;36m3\u001b[0m\u001b[0;34m,\u001b[0m \u001b[0;36m1\u001b[0m\u001b[0;34m)\u001b[0m\u001b[0;34m\u001b[0m\u001b[0m\n\u001b[0;32m---> 25\u001b[0;31m \u001b[0mimshow_noax\u001b[0m\u001b[0;34m(\u001b[0m\u001b[0mpuppy\u001b[0m\u001b[0;34m,\u001b[0m \u001b[0mnormalize\u001b[0m\u001b[0;34m=\u001b[0m\u001b[0mFalse\u001b[0m\u001b[0;34m)\u001b[0m\u001b[0;34m\u001b[0m\u001b[0m\n\u001b[0m\u001b[1;32m     26\u001b[0m \u001b[0mplt\u001b[0m\u001b[0;34m.\u001b[0m\u001b[0mtitle\u001b[0m\u001b[0;34m(\u001b[0m\u001b[0;34m'Original image'\u001b[0m\u001b[0;34m)\u001b[0m\u001b[0;34m\u001b[0m\u001b[0m\n\u001b[1;32m     27\u001b[0m \u001b[0;34m\u001b[0m\u001b[0m\n",
      "\u001b[0;31mNameError\u001b[0m: name 'imshow_noax' is not defined"
     ]
    },
    {
     "data": {
      "image/png": "[encoded data removed]",
      "text/plain": [
       "<matplotlib.figure.Figure at 0x107ae0c90>"
      ]
     },
     "metadata": {},
     "output_type": "display_data"
    }
   ],
   "source": [
    "from scipy.misc import imread, imresize\n",
    "\n",
    "kitten, puppy = imread('kitten.jpg'), imread('puppy.jpg')\n",
    "# kitten is wide, and puppy is already square\n",
    "d = kitten.shape[1] - kitten.shape[0]\n",
    "kitten_cropped = kitten[:, d/2:-d/2, :]\n",
    "\n",
    "# Remove center square pixels\n",
    "mask = np.ones((266, 266, 3))\n",
    "missing_start = int(266 * 0.25)\n",
    "missing_end = int(266 * 0.75)\n",
    "mask[missing_start:missing_end, missing_start:missing_end, :] = 0\n",
    "missing_kitten = kitten_cropped * mask\n",
    "\n",
    "mask = np.ones((517, 517, 3))\n",
    "missing_start = int(517 * 0.25)\n",
    "missing_end = int(517 * 0.75)\n",
    "mask[missing_start:missing_end, missing_start:missing_end, :] = 0\n",
    "missing_puppy = puppy * mask\n",
    "\n",
    "print kitten_cropped.shape\n",
    "    \n",
    "# Show the original images and the results of the conv operation\n",
    "plt.subplot(2, 3, 1)\n",
    "imshow_noax(puppy, normalize=False)\n",
    "plt.title('Original image')\n",
    "\n",
    "plt.subplot(2, 3, 2)\n",
    "imshow_noax(missing_puppy, normalize=False)\n",
    "plt.title('Missing pixels')\n",
    "\n",
    "plt.subplot(2, 3, 4)\n",
    "imshow_noax(kitten_cropped, normalize=False)\n",
    "\n",
    "plt.subplot(2, 3, 5)\n",
    "imshow_noax(missing_kitten, normalize=False)\n",
    "\n",
    "plt.show()"
   ]
  },
  {
   "cell_type": "markdown",
   "metadata": {},
   "source": [
    "# Convolution: Naive backward pass\n",
    "Implement the backward pass for the convolution operation in the function `conv_backward_naive` in the file `code/layers.py`. Again, you don't need to worry too much about computational efficiency.\n",
    "\n",
    "When you are done, run the following to check your backward pass with a numeric gradient check."
   ]
  },
  {
   "cell_type": "code",
   "execution_count": 9,
   "metadata": {
    "collapsed": false
   },
   "outputs": [
    {
     "name": "stdout",
     "output_type": "stream",
     "text": [
      "Testing conv_backward_naive function\n",
      "dw error:  1.075219625e-10\n",
      "dx error:  3.63217597974e-09\n",
      "db error:  6.30578060178e-11\n"
     ]
    }
   ],
   "source": [
    "x = np.random.randn(4, 3, 5, 5)\n",
    "w = np.random.randn(2, 3, 3, 3)\n",
    "b = np.random.randn(2,)\n",
    "dout = np.random.randn(4, 2, 5, 5)\n",
    "conv_param = {'stride': 1, 'pad': 1}\n",
    "\n",
    "dx_num = eval_numerical_gradient_array(lambda x: conv_forward_naive(x, w, b, conv_param)[0], x, dout)\n",
    "dw_num = eval_numerical_gradient_array(lambda w: conv_forward_naive(x, w, b, conv_param)[0], w, dout)\n",
    "db_num = eval_numerical_gradient_array(lambda b: conv_forward_naive(x, w, b, conv_param)[0], b, dout)\n",
    "\n",
    "out, cache = conv_forward_naive(x, w, b, conv_param)\n",
    "dx, dw, db = conv_backward_naive(dout, cache)\n",
    "\n",
    "# Your errors should be around 1e-9'\n",
    "print 'Testing conv_backward_naive function'\n",
    "print 'dw error: ', rel_error(dw, dw_num)\n",
    "print 'dx error: ', rel_error(dx, dx_num)\n",
    "print 'db error: ', rel_error(db, db_num)"
   ]
  },
  {
   "cell_type": "markdown",
   "metadata": {},
   "source": [
    "# Max pooling: Naive forward\n",
    "Implement the forward pass for the max-pooling operation in the function `max_pool_forward_naive` in the file `code/layers.py`. Again, don't worry too much about computational efficiency.\n",
    "\n",
    "Check your implementation by running the following:"
   ]
  },
  {
   "cell_type": "code",
   "execution_count": 10,
   "metadata": {
    "collapsed": false
   },
   "outputs": [
    {
     "name": "stdout",
     "output_type": "stream",
     "text": [
      "Testing max_pool_forward_naive function:\n",
      "difference:  4.16666651573e-08\n"
     ]
    }
   ],
   "source": [
    "x_shape = (2, 3, 4, 4)\n",
    "x = np.linspace(-0.3, 0.4, num=np.prod(x_shape)).reshape(x_shape)\n",
    "pool_param = {'pool_width': 2, 'pool_height': 2, 'stride': 2}\n",
    "\n",
    "out, _ = max_pool_forward_naive(x, pool_param)\n",
    "\n",
    "correct_out = np.array([[[[-0.26315789, -0.24842105],\n",
    "                          [-0.20421053, -0.18947368]],\n",
    "                         [[-0.14526316, -0.13052632],\n",
    "                          [-0.08631579, -0.07157895]],\n",
    "                         [[-0.02736842, -0.01263158],\n",
    "                          [ 0.03157895,  0.04631579]]],\n",
    "                        [[[ 0.09052632,  0.10526316],\n",
    "                          [ 0.14947368,  0.16421053]],\n",
    "                         [[ 0.20842105,  0.22315789],\n",
    "                          [ 0.26736842,  0.28210526]],\n",
    "                         [[ 0.32631579,  0.34105263],\n",
    "                          [ 0.38526316,  0.4       ]]]])\n",
    "\n",
    "# Compare your output with ours. Difference should be around 1e-8.\n",
    "print 'Testing max_pool_forward_naive function:'\n",
    "print 'difference: ', rel_error(out, correct_out)"
   ]
  },
  {
   "cell_type": "markdown",
   "metadata": {},
   "source": [
    "# Max pooling: Naive backward\n",
    "Implement the backward pass for the max-pooling operation in the function `max_pool_backward_naive` in the file `code/layers.py`. You don't need to worry about computational efficiency.\n",
    "\n",
    "Check your implementation with numeric gradient checking by running the following:"
   ]
  },
  {
   "cell_type": "code",
   "execution_count": 11,
   "metadata": {
    "collapsed": false
   },
   "outputs": [
    {
     "name": "stdout",
     "output_type": "stream",
     "text": [
      "Testing max_pool_backward_naive function:\n",
      "dx error:  3.27561780673e-12\n"
     ]
    }
   ],
   "source": [
    "x = np.random.randn(3, 2, 8, 8)\n",
    "dout = np.random.randn(3, 2, 4, 4)\n",
    "pool_param = {'pool_height': 2, 'pool_width': 2, 'stride': 2}\n",
    "\n",
    "dx_num = eval_numerical_gradient_array(lambda x: max_pool_forward_naive(x, pool_param)[0], x, dout)\n",
    "\n",
    "out, cache = max_pool_forward_naive(x, pool_param)\n",
    "dx = max_pool_backward_naive(dout, cache)\n",
    "\n",
    "# Your error should be around 1e-12\n",
    "print 'Testing max_pool_backward_naive function:'\n",
    "print 'dx error: ', rel_error(dx, dx_num)"
   ]
  },
  {
   "cell_type": "markdown",
   "metadata": {},
   "source": [
    "# Fast layers\n",
    "Making convolution and pooling layers fast can be challenging. To spare you the pain, we've provided fast implementations of the forward and backward passes for convolution and pooling layers in the file `code/fast_layers.py`.\n",
    "\n",
    "The fast convolution implementation depends on a Cython extension; to compile it you need to run the following from the `code` directory:\n",
    "\n",
    "```bash\n",
    "python setup.py build_ext --inplace\n",
    "```\n",
    "\n",
    "The API for the fast versions of the convolution and pooling layers is exactly the same as the naive versions that you implemented above: the forward pass receives data, weights, and parameters and produces outputs and a cache object; the backward pass recieves upstream derivatives and the cache object and produces gradients with respect to the data and weights.\n",
    "\n",
    "**NOTE:** The fast implementation for pooling will only perform optimally if the pooling regions are non-overlapping and tile the input. If these conditions are not met then the fast pooling implementation will not be much faster than the naive implementation.\n",
    "\n",
    "You can compare the performance of the naive and fast versions of these layers by running the following:"
   ]
  },
  {
   "cell_type": "code",
   "execution_count": 12,
   "metadata": {
    "collapsed": false
   },
   "outputs": [
    {
     "name": "stdout",
     "output_type": "stream",
     "text": [
      "Testing conv_forward_fast:\n",
      "Naive: 0.101198s\n",
      "Fast: 0.015907s\n",
      "Speedup: 6.361831x\n",
      "Difference:  2.16196659599e-11\n",
      "\n",
      "Testing conv_backward_fast:\n",
      "Naive: 0.124746s\n",
      "Fast: 0.009279s\n",
      "Speedup: 13.443896x\n",
      "dx difference:  5.46846343004e-12\n",
      "dw difference:  5.42820572768e-13\n",
      "db difference:  0.0\n"
     ]
    }
   ],
   "source": [
    "from code.fast_layers import conv_forward_fast, conv_backward_fast\n",
    "from time import time\n",
    "\n",
    "x = np.random.randn(100, 3, 31, 31)\n",
    "w = np.random.randn(25, 3, 3, 3)\n",
    "b = np.random.randn(25,)\n",
    "dout = np.random.randn(100, 25, 16, 16)\n",
    "conv_param = {'stride': 2, 'pad': 1}\n",
    "\n",
    "t0 = time()\n",
    "out_naive, cache_naive = conv_forward_naive(x, w, b, conv_param)\n",
    "t1 = time()\n",
    "out_fast, cache_fast = conv_forward_fast(x, w, b, conv_param)\n",
    "t2 = time()\n",
    "\n",
    "print 'Testing conv_forward_fast:'\n",
    "print 'Naive: %fs' % (t1 - t0)\n",
    "print 'Fast: %fs' % (t2 - t1)\n",
    "print 'Speedup: %fx' % ((t1 - t0) / (t2 - t1))\n",
    "print 'Difference: ', rel_error(out_naive, out_fast)\n",
    "\n",
    "t0 = time()\n",
    "dx_naive, dw_naive, db_naive = conv_backward_naive(dout, cache_naive)\n",
    "t1 = time()\n",
    "dx_fast, dw_fast, db_fast = conv_backward_fast(dout, cache_fast)\n",
    "t2 = time()\n",
    "\n",
    "print '\\nTesting conv_backward_fast:'\n",
    "print 'Naive: %fs' % (t1 - t0)\n",
    "print 'Fast: %fs' % (t2 - t1)\n",
    "print 'Speedup: %fx' % ((t1 - t0) / (t2 - t1))\n",
    "print 'dx difference: ', rel_error(dx_naive, dx_fast)\n",
    "print 'dw difference: ', rel_error(dw_naive, dw_fast)\n",
    "print 'db difference: ', rel_error(db_naive, db_fast)"
   ]
  },
  {
   "cell_type": "code",
   "execution_count": 13,
   "metadata": {
    "collapsed": false
   },
   "outputs": [
    {
     "name": "stdout",
     "output_type": "stream",
     "text": [
      "Testing pool_forward_fast:\n",
      "Naive: 0.108164s\n",
      "fast: 0.003442s\n",
      "speedup: 31.424257x\n",
      "difference:  0.0\n",
      "\n",
      "Testing pool_backward_fast:\n",
      "Naive: 0.484727s\n",
      "speedup: 51.153403x\n",
      "dx difference:  0.0\n"
     ]
    }
   ],
   "source": [
    "from code.fast_layers import max_pool_forward_fast, max_pool_backward_fast\n",
    "\n",
    "x = np.random.randn(100, 3, 32, 32)\n",
    "dout = np.random.randn(100, 3, 16, 16)\n",
    "pool_param = {'pool_height': 2, 'pool_width': 2, 'stride': 2}\n",
    "\n",
    "t0 = time()\n",
    "out_naive, cache_naive = max_pool_forward_naive(x, pool_param)\n",
    "t1 = time()\n",
    "out_fast, cache_fast = max_pool_forward_fast(x, pool_param)\n",
    "t2 = time()\n",
    "\n",
    "print 'Testing pool_forward_fast:'\n",
    "print 'Naive: %fs' % (t1 - t0)\n",
    "print 'fast: %fs' % (t2 - t1)\n",
    "print 'speedup: %fx' % ((t1 - t0) / (t2 - t1))\n",
    "print 'difference: ', rel_error(out_naive, out_fast)\n",
    "\n",
    "t0 = time()\n",
    "dx_naive = max_pool_backward_naive(dout, cache_naive)\n",
    "t1 = time()\n",
    "dx_fast = max_pool_backward_fast(dout, cache_fast)\n",
    "t2 = time()\n",
    "\n",
    "print '\\nTesting pool_backward_fast:'\n",
    "print 'Naive: %fs' % (t1 - t0)\n",
    "print 'speedup: %fx' % ((t1 - t0) / (t2 - t1))\n",
    "print 'dx difference: ', rel_error(dx_naive, dx_fast)"
   ]
  },
  {
   "cell_type": "markdown",
   "metadata": {},
   "source": [
    "# Convolutional \"sandwich\" layers\n",
    "Previously we introduced the concept of \"sandwich\" layers that combine multiple operations into commonly used patterns. In the file `code/layer_utils.py` you will find sandwich layers that implement a few commonly used patterns for convolutional networks."
   ]
  },
  {
   "cell_type": "code",
   "execution_count": 14,
   "metadata": {
    "collapsed": false
   },
   "outputs": [
    {
     "name": "stdout",
     "output_type": "stream",
     "text": [
      "Testing conv_relu_pool\n",
      "dx error:  4.76189755828e-08\n",
      "dw error:  4.97229816946e-10\n",
      "db error:  2.60600470684e-11\n"
     ]
    }
   ],
   "source": [
    "from code.layer_utils import conv_relu_pool_forward, conv_relu_pool_backward\n",
    "\n",
    "x = np.random.randn(2, 3, 16, 16)\n",
    "w = np.random.randn(3, 3, 3, 3)\n",
    "b = np.random.randn(3,)\n",
    "dout = np.random.randn(2, 3, 8, 8)\n",
    "conv_param = {'stride': 1, 'pad': 1}\n",
    "pool_param = {'pool_height': 2, 'pool_width': 2, 'stride': 2}\n",
    "\n",
    "out, cache = conv_relu_pool_forward(x, w, b, conv_param, pool_param)\n",
    "dx, dw, db = conv_relu_pool_backward(dout, cache)\n",
    "\n",
    "dx_num = eval_numerical_gradient_array(lambda x: conv_relu_pool_forward(x, w, b, conv_param, pool_param)[0], x, dout)\n",
    "dw_num = eval_numerical_gradient_array(lambda w: conv_relu_pool_forward(x, w, b, conv_param, pool_param)[0], w, dout)\n",
    "db_num = eval_numerical_gradient_array(lambda b: conv_relu_pool_forward(x, w, b, conv_param, pool_param)[0], b, dout)\n",
    "\n",
    "print 'Testing conv_relu_pool'\n",
    "print 'dx error: ', rel_error(dx_num, dx)\n",
    "print 'dw error: ', rel_error(dw_num, dw)\n",
    "print 'db error: ', rel_error(db_num, db)"
   ]
  },
  {
   "cell_type": "code",
   "execution_count": 15,
   "metadata": {
    "collapsed": false
   },
   "outputs": [
    {
     "name": "stdout",
     "output_type": "stream",
     "text": [
      "Testing conv_relu:\n",
      "dx error:  3.07576107758e-09\n",
      "dw error:  5.64636131913e-10\n",
      "db error:  1.80131256247e-11\n"
     ]
    }
   ],
   "source": [
    "from code.layer_utils import conv_relu_forward, conv_relu_backward\n",
    "\n",
    "x = np.random.randn(2, 3, 8, 8)\n",
    "w = np.random.randn(3, 3, 3, 3)\n",
    "b = np.random.randn(3,)\n",
    "dout = np.random.randn(2, 3, 8, 8)\n",
    "conv_param = {'stride': 1, 'pad': 1}\n",
    "\n",
    "out, cache = conv_relu_forward(x, w, b, conv_param)\n",
    "dx, dw, db = conv_relu_backward(dout, cache)\n",
    "\n",
    "dx_num = eval_numerical_gradient_array(lambda x: conv_relu_forward(x, w, b, conv_param)[0], x, dout)\n",
    "dw_num = eval_numerical_gradient_array(lambda w: conv_relu_forward(x, w, b, conv_param)[0], w, dout)\n",
    "db_num = eval_numerical_gradient_array(lambda b: conv_relu_forward(x, w, b, conv_param)[0], b, dout)\n",
    "\n",
    "print 'Testing conv_relu:'\n",
    "print 'dx error: ', rel_error(dx_num, dx)\n",
    "print 'dw error: ', rel_error(dw_num, dw)\n",
    "print 'db error: ', rel_error(db_num, db)"
   ]
  },
  {
   "cell_type": "markdown",
   "metadata": {},
   "source": [
    "# Three-layer ConvNet\n",
    "Now that you have implemented all the necessary layers, we can put them together into a simple convolutional network.\n",
    "\n",
    "Open the file `code/cnn.py` and complete the implementation of the `ThreeLayerConvNet` class. Run the following cells to help you debug:"
   ]
  },
  {
   "cell_type": "markdown",
   "metadata": {},
   "source": [
    "## Sanity check loss\n",
    "After you build a new network, one of the first things you should do is sanity check the loss. When we use the softmax loss, we expect the loss for random weights (and no regularization) to be about `log(C)` for `C` classes. When we add regularization this should go up."
   ]
  },
  {
   "cell_type": "code",
   "execution_count": 16,
   "metadata": {
    "collapsed": false
   },
   "outputs": [
    {
     "name": "stdout",
     "output_type": "stream",
     "text": [
      "Initial loss (no regularization):  2.30258402392\n",
      "Initial loss (with regularization):  2.50870892805\n"
     ]
    }
   ],
   "source": [
    "model = ThreeLayerConvNet()\n",
    "\n",
    "N = 50\n",
    "X = np.random.randn(N, 3, 32, 32)\n",
    "y = np.random.randint(10, size=N)\n",
    "\n",
    "loss, grads = model.loss(X, y)\n",
    "print 'Initial loss (no regularization): ', loss\n",
    "\n",
    "model.reg = 0.5\n",
    "loss, grads = model.loss(X, y)\n",
    "print 'Initial loss (with regularization): ', loss"
   ]
  },
  {
   "cell_type": "markdown",
   "metadata": {},
   "source": [
    "## Gradient check\n",
    "After the loss looks reasonable, use numeric gradient checking to make sure that your backward pass is correct. When you use numeric gradient checking you should use a small amount of artifical data and a small number of neurons at each layer."
   ]
  },
  {
   "cell_type": "code",
   "execution_count": 17,
   "metadata": {
    "collapsed": false
   },
   "outputs": [
    {
     "name": "stdout",
     "output_type": "stream",
     "text": [
      "W1 max relative error: 2.886487e-03\n",
      "W2 max relative error: 1.777449e-02\n",
      "W3 max relative error: 2.667549e-03\n",
      "b1 max relative error: 1.198817e-05\n",
      "b2 max relative error: 1.355508e-02\n",
      "b3 max relative error: 1.132811e-09\n"
     ]
    }
   ],
   "source": [
    "num_inputs = 2\n",
    "input_dim = (3, 16, 16)\n",
    "reg = 0.0\n",
    "num_classes = 10\n",
    "X = np.random.randn(num_inputs, *input_dim)\n",
    "y = np.random.randint(num_classes, size=num_inputs)\n",
    "\n",
    "model = ThreeLayerConvNet(num_filters=3, filter_size=3,\n",
    "                          input_dim=input_dim, hidden_dim=7,\n",
    "                          dtype=np.float64)\n",
    "loss, grads = model.loss(X, y)\n",
    "for param_name in sorted(grads):\n",
    "    f = lambda _: model.loss(X, y)[0]\n",
    "    param_grad_num = eval_numerical_gradient(f, model.params[param_name], verbose=False, h=1e-6)\n",
    "    e = rel_error(param_grad_num, grads[param_name])\n",
    "    print '%s max relative error: %e' % (param_name, rel_error(param_grad_num, grads[param_name]))"
   ]
  },
  {
   "cell_type": "markdown",
   "metadata": {},
   "source": [
    "## Overfit small data\n",
    "A nice trick is to train your model with just a few training samples. You should be able to overfit small datasets, which will result in very high training accuracy and comparatively low validation accuracy."
   ]
  },
  {
   "cell_type": "code",
   "execution_count": 18,
   "metadata": {
    "collapsed": false
   },
   "outputs": [
    {
     "name": "stdout",
     "output_type": "stream",
     "text": [
      "(Iteration 1 / 20) loss: 2.252828\n",
      "(Epoch 0 / 10) train acc: 0.220000; val_acc: 0.137000\n",
      "(Iteration 2 / 20) loss: 4.859072\n",
      "(Epoch 1 / 10) train acc: 0.130000; val_acc: 0.077000\n",
      "(Iteration 3 / 20) loss: 4.062864\n",
      "(Iteration 4 / 20) loss: 2.976818\n",
      "(Epoch 2 / 10) train acc: 0.260000; val_acc: 0.113000\n",
      "(Iteration 5 / 20) loss: 2.546877\n",
      "(Iteration 6 / 20) loss: 3.104442\n",
      "(Epoch 3 / 10) train acc: 0.230000; val_acc: 0.124000\n",
      "(Iteration 7 / 20) loss: 2.372892\n",
      "(Iteration 8 / 20) loss: 2.304699\n",
      "(Epoch 4 / 10) train acc: 0.320000; val_acc: 0.168000\n",
      "(Iteration 9 / 20) loss: 2.003174\n",
      "(Iteration 10 / 20) loss: 2.022661\n",
      "(Epoch 5 / 10) train acc: 0.170000; val_acc: 0.089000\n",
      "(Iteration 11 / 20) loss: 2.235473\n",
      "(Iteration 12 / 20) loss: 1.918868\n",
      "(Epoch 6 / 10) train acc: 0.310000; val_acc: 0.165000\n",
      "(Iteration 13 / 20) loss: 1.837696\n",
      "(Iteration 14 / 20) loss: 1.783850\n",
      "(Epoch 7 / 10) train acc: 0.440000; val_acc: 0.206000\n",
      "(Iteration 15 / 20) loss: 1.588015\n",
      "(Iteration 16 / 20) loss: 1.593867\n",
      "(Epoch 8 / 10) train acc: 0.540000; val_acc: 0.200000\n",
      "(Iteration 17 / 20) loss: 1.667972\n",
      "(Iteration 18 / 20) loss: 1.371903\n",
      "(Epoch 9 / 10) train acc: 0.600000; val_acc: 0.175000\n",
      "(Iteration 19 / 20) loss: 1.442437\n",
      "(Iteration 20 / 20) loss: 1.491428\n",
      "(Epoch 10 / 10) train acc: 0.620000; val_acc: 0.171000\n"
     ]
    }
   ],
   "source": [
    "num_train = 100\n",
    "small_data = {\n",
    "  'X_train': data['X_train'][:num_train],\n",
    "  'y_train': data['y_train'][:num_train],\n",
    "  'X_val': data['X_val'],\n",
    "  'y_val': data['y_val'],\n",
    "}\n",
    "\n",
    "model = ThreeLayerConvNet(weight_scale=1e-2)\n",
    "\n",
    "solver = Solver(model, small_data,\n",
    "                num_epochs=10, batch_size=50,\n",
    "                update_rule='adam',\n",
    "                optim_config={\n",
    "                  'learning_rate': 1e-3,\n",
    "                },\n",
    "                verbose=True, print_every=1)\n",
    "solver.train()"
   ]
  },
  {
   "cell_type": "markdown",
   "metadata": {},
   "source": [
    "Plotting the loss, training accuracy, and validation accuracy should show clear overfitting:"
   ]
  },
  {
   "cell_type": "code",
   "execution_count": 19,
   "metadata": {
    "collapsed": false
   },
   "outputs": [
    {
     "data": {
      "image/png": "[encoded data removed]",
      "text/plain": [
       "<matplotlib.figure.Figure at 0x106664b90>"
      ]
     },
     "metadata": {},
     "output_type": "display_data"
    }
   ],
   "source": [
    "plt.subplot(2, 1, 1)\n",
    "plt.plot(solver.loss_history, 'o')\n",
    "plt.xlabel('iteration')\n",
    "plt.ylabel('loss')\n",
    "\n",
    "plt.subplot(2, 1, 2)\n",
    "plt.plot(solver.train_acc_history, '-o')\n",
    "plt.plot(solver.val_acc_history, '-o')\n",
    "plt.legend(['train', 'val'], loc='upper left')\n",
    "plt.xlabel('epoch')\n",
    "plt.ylabel('accuracy')\n",
    "plt.show()"
   ]
  },
  {
   "cell_type": "markdown",
   "metadata": {},
   "source": [
    "## Train the net\n",
    "By training the three-layer convolutional network for one epoch, you should achieve greater than 40% accuracy on the training set:"
   ]
  },
  {
   "cell_type": "code",
   "execution_count": 20,
   "metadata": {
    "collapsed": false,
    "scrolled": false
   },
   "outputs": [
    {
     "name": "stdout",
     "output_type": "stream",
     "text": [
      "(Iteration 1 / 980) loss: 2.304648\n",
      "(Epoch 0 / 1) train acc: 0.117000; val_acc: 0.115000\n",
      "(Iteration 21 / 980) loss: 2.071419\n",
      "(Iteration 41 / 980) loss: 1.922036\n",
      "(Iteration 61 / 980) loss: 2.100622\n",
      "(Iteration 81 / 980) loss: 1.768757\n",
      "(Iteration 101 / 980) loss: 1.799647\n",
      "(Iteration 121 / 980) loss: 2.000124\n",
      "(Iteration 141 / 980) loss: 2.113511\n",
      "(Iteration 161 / 980) loss: 1.646565\n",
      "(Iteration 181 / 980) loss: 1.789996\n",
      "(Iteration 201 / 980) loss: 1.836587\n",
      "(Iteration 221 / 980) loss: 1.590435\n",
      "(Iteration 241 / 980) loss: 1.831207\n",
      "(Iteration 261 / 980) loss: 1.853556\n",
      "(Iteration 281 / 980) loss: 1.638251\n",
      "(Iteration 301 / 980) loss: 1.556177\n",
      "(Iteration 321 / 980) loss: 1.880166\n",
      "(Iteration 341 / 980) loss: 1.618852\n",
      "(Iteration 361 / 980) loss: 1.657027\n",
      "(Iteration 381 / 980) loss: 1.668784\n",
      "(Iteration 401 / 980) loss: 1.553513\n",
      "(Iteration 421 / 980) loss: 1.508858\n",
      "(Iteration 441 / 980) loss: 1.557400\n",
      "(Iteration 461 / 980) loss: 1.590944\n",
      "(Iteration 481 / 980) loss: 1.806477\n",
      "(Iteration 501 / 980) loss: 1.742890\n",
      "(Iteration 521 / 980) loss: 1.415435\n",
      "(Iteration 541 / 980) loss: 1.433470\n",
      "(Iteration 561 / 980) loss: 1.573982\n",
      "(Iteration 581 / 980) loss: 1.777100\n",
      "(Iteration 601 / 980) loss: 1.610263\n",
      "(Iteration 621 / 980) loss: 1.932574\n",
      "(Iteration 641 / 980) loss: 1.512228\n",
      "(Iteration 661 / 980) loss: 1.449554\n",
      "(Iteration 681 / 980) loss: 1.574673\n",
      "(Iteration 701 / 980) loss: 1.362345\n",
      "(Iteration 721 / 980) loss: 1.501212\n",
      "(Iteration 741 / 980) loss: 1.733210\n",
      "(Iteration 761 / 980) loss: 1.407071\n",
      "(Iteration 781 / 980) loss: 1.497118\n",
      "(Iteration 801 / 980) loss: 1.539015\n",
      "(Iteration 821 / 980) loss: 1.740901\n",
      "(Iteration 841 / 980) loss: 1.517913\n",
      "(Iteration 861 / 980) loss: 1.837417\n",
      "(Iteration 881 / 980) loss: 1.626538\n",
      "(Iteration 901 / 980) loss: 1.570535\n",
      "(Iteration 921 / 980) loss: 1.561479\n",
      "(Iteration 941 / 980) loss: 1.389299\n",
      "(Iteration 961 / 980) loss: 1.599823\n",
      "(Epoch 1 / 1) train acc: 0.478000; val_acc: 0.484000\n"
     ]
    }
   ],
   "source": [
    "model = ThreeLayerConvNet(weight_scale=0.001, hidden_dim=500, reg=0.001)\n",
    "\n",
    "solver = Solver(model, data,\n",
    "                num_epochs=1, batch_size=50,\n",
    "                update_rule='adam',\n",
    "                optim_config={\n",
    "                  'learning_rate': 1e-3,\n",
    "                },\n",
    "                verbose=True, print_every=20)\n",
    "solver.train()"
   ]
  },
  {
   "cell_type": "markdown",
   "metadata": {},
   "source": [
    "## Visualize Filters\n",
    "You can visualize the first-layer convolutional filters from the trained network by running the following:"
   ]
  },
  {
   "cell_type": "code",
   "execution_count": 21,
   "metadata": {
    "collapsed": false
   },
   "outputs": [
    {
     "data": {
      "image/png": "[encoded data removed]",
      "text/plain": [
       "<matplotlib.figure.Figure at 0x112796410>"
      ]
     },
     "metadata": {},
     "output_type": "display_data"
    }
   ],
   "source": [
    "from code.vis_utils import visualize_grid\n",
    "\n",
    "grid = visualize_grid(model.params['W1'].transpose(0, 2, 3, 1))\n",
    "plt.imshow(grid.astype('uint8'))\n",
    "plt.axis('off')\n",
    "plt.gcf().set_size_inches(5, 5)\n",
    "plt.show()"
   ]
  },
  {
   "cell_type": "markdown",
   "metadata": {},
   "source": [
    "# Spatial Batch Normalization\n",
    "We already saw that batch normalization is a very useful technique for training deep fully-connected networks. Batch normalization can also be used for convolutional networks, but we need to tweak it a bit; the modification will be called \"spatial batch normalization.\"\n",
    "\n",
    "Normally batch-normalization accepts inputs of shape `(N, D)` and produces outputs of shape `(N, D)`, where we normalize across the minibatch dimension `N`. For data coming from convolutional layers, batch normalization needs to accept inputs of shape `(N, C, H, W)` and produce outputs of shape `(N, C, H, W)` where the `N` dimension gives the minibatch size and the `(H, W)` dimensions give the spatial size of the feature map.\n",
    "\n",
    "If the feature map was produced using convolutions, then we expect the statistics of each feature channel to be relatively consistent both between different imagesand different locations within the same image. Therefore spatial batch normalization computes a mean and variance for each of the `C` feature channels by computing statistics over both the minibatch dimension `N` and the spatial dimensions `H` and `W`."
   ]
  },
  {
   "cell_type": "markdown",
   "metadata": {},
   "source": [
    "## Spatial batch normalization: forward\n",
    "\n",
    "In the file `code/layers.py`, implement the forward pass for spatial batch normalization in the function `spatial_batchnorm_forward`. Check your implementation by running the following:"
   ]
  },
  {
   "cell_type": "code",
   "execution_count": 22,
   "metadata": {
    "collapsed": false
   },
   "outputs": [
    {
     "name": "stdout",
     "output_type": "stream",
     "text": [
      "Before spatial batch normalization:\n",
      "  Shape:  (2, 3, 4, 5)\n",
      "  Means:  [ 10.48023128   9.8985406    9.9931654 ]\n",
      "  Stds:  [ 3.72615063  3.78527943  4.45620815]\n",
      "After spatial batch normalization:\n",
      "  Shape:  (2, 3, 4, 5)\n",
      "  Means:  [  1.33226763e-16  -4.08006962e-16   2.16493490e-16]\n",
      "  Stds:  [ 0.99999964  0.99999965  0.99999975]\n",
      "After spatial batch normalization (nontrivial gamma, beta):\n",
      "  Shape:  (2, 3, 4, 5)\n",
      "  Means:  [ 6.  7.  8.]\n",
      "  Stds:  [ 2.99999892  3.9999986   4.99999874]\n"
     ]
    }
   ],
   "source": [
    "# Check the training-time forward pass by checking means and variances\n",
    "# of features both before and after spatial batch normalization\n",
    "\n",
    "N, C, H, W = 2, 3, 4, 5\n",
    "x = 4 * np.random.randn(N, C, H, W) + 10\n",
    "\n",
    "print 'Before spatial batch normalization:'\n",
    "print '  Shape: ', x.shape\n",
    "print '  Means: ', x.mean(axis=(0, 2, 3))\n",
    "print '  Stds: ', x.std(axis=(0, 2, 3))\n",
    "\n",
    "# Means should be close to zero and stds close to one\n",
    "gamma, beta = np.ones(C), np.zeros(C)\n",
    "bn_param = {'mode': 'train'}\n",
    "out, _ = spatial_batchnorm_forward(x, gamma, beta, bn_param)\n",
    "print 'After spatial batch normalization:'\n",
    "print '  Shape: ', out.shape\n",
    "print '  Means: ', out.mean(axis=(0, 2, 3))\n",
    "print '  Stds: ', out.std(axis=(0, 2, 3))\n",
    "\n",
    "# Means should be close to beta and stds close to gamma\n",
    "gamma, beta = np.asarray([3, 4, 5]), np.asarray([6, 7, 8])\n",
    "out, _ = spatial_batchnorm_forward(x, gamma, beta, bn_param)\n",
    "print 'After spatial batch normalization (nontrivial gamma, beta):'\n",
    "print '  Shape: ', out.shape\n",
    "print '  Means: ', out.mean(axis=(0, 2, 3))\n",
    "print '  Stds: ', out.std(axis=(0, 2, 3))"
   ]
  },
  {
   "cell_type": "code",
   "execution_count": 23,
   "metadata": {
    "collapsed": false
   },
   "outputs": [
    {
     "name": "stdout",
     "output_type": "stream",
     "text": [
      "After spatial batch normalization (test-time):\n",
      "  means:  [ 0.0426927   0.0352823   0.04094736  0.05720595]\n",
      "  stds:  [ 0.99220873  0.98252597  0.98189351  0.97121617]\n"
     ]
    }
   ],
   "source": [
    "# Check the test-time forward pass by running the training-time\n",
    "# forward pass many times to warm up the running averages, and then\n",
    "# checking the means and variances of activations after a test-time\n",
    "# forward pass.\n",
    "\n",
    "N, C, H, W = 10, 4, 11, 12\n",
    "\n",
    "bn_param = {'mode': 'train'}\n",
    "gamma = np.ones(C)\n",
    "beta = np.zeros(C)\n",
    "for t in xrange(50):\n",
    "  x = 2.3 * np.random.randn(N, C, H, W) + 13\n",
    "  spatial_batchnorm_forward(x, gamma, beta, bn_param)\n",
    "bn_param['mode'] = 'test'\n",
    "x = 2.3 * np.random.randn(N, C, H, W) + 13\n",
    "a_norm, _ = spatial_batchnorm_forward(x, gamma, beta, bn_param)\n",
    "\n",
    "# Means should be close to zero and stds close to one, but will be\n",
    "# noisier than training-time forward passes.\n",
    "print 'After spatial batch normalization (test-time):'\n",
    "print '  means: ', a_norm.mean(axis=(0, 2, 3))\n",
    "print '  stds: ', a_norm.std(axis=(0, 2, 3))"
   ]
  },
  {
   "cell_type": "markdown",
   "metadata": {},
   "source": [
    "## Spatial batch normalization: backward\n",
    "In the file `code/layers.py`, implement the backward pass for spatial batch normalization in the function `spatial_batchnorm_backward`. Run the following to check your implementation using a numeric gradient check:"
   ]
  },
  {
   "cell_type": "code",
   "execution_count": 24,
   "metadata": {
    "collapsed": false
   },
   "outputs": [
    {
     "name": "stdout",
     "output_type": "stream",
     "text": [
      "dx error:  2.03831912508e-08\n",
      "dgamma error:  9.17329273285e-12\n",
      "dbeta error:  3.2826568995e-12\n"
     ]
    }
   ],
   "source": [
    "N, C, H, W = 2, 3, 4, 5\n",
    "x = 5 * np.random.randn(N, C, H, W) + 12\n",
    "gamma = np.random.randn(C)\n",
    "beta = np.random.randn(C)\n",
    "dout = np.random.randn(N, C, H, W)\n",
    "\n",
    "bn_param = {'mode': 'train'}\n",
    "fx = lambda x: spatial_batchnorm_forward(x, gamma, beta, bn_param)[0]\n",
    "fg = lambda a: spatial_batchnorm_forward(x, gamma, beta, bn_param)[0]\n",
    "fb = lambda b: spatial_batchnorm_forward(x, gamma, beta, bn_param)[0]\n",
    "\n",
    "dx_num = eval_numerical_gradient_array(fx, x, dout)\n",
    "da_num = eval_numerical_gradient_array(fg, gamma, dout)\n",
    "db_num = eval_numerical_gradient_array(fb, beta, dout)\n",
    "\n",
    "_, cache = spatial_batchnorm_forward(x, gamma, beta, bn_param)\n",
    "dx, dgamma, dbeta = spatial_batchnorm_backward(dout, cache)\n",
    "print 'dx error: ', rel_error(dx_num, dx)\n",
    "print 'dgamma error: ', rel_error(da_num, dgamma)\n",
    "print 'dbeta error: ', rel_error(db_num, dbeta)"
   ]
  },
  {
   "cell_type": "markdown",
   "metadata": {},
   "source": [
    "# Experiment!\n",
    "Experiment and try to get the best performance that you can on CIFAR-10 using a ConvNet. Here are some ideas to get you started:\n",
    "\n",
    "### Things you should try:\n",
    "- Filter size: Above we used 7x7; this makes pretty pictures but smaller filters may be more efficient\n",
    "- Number of filters: Above we used 32 filters. Do more or fewer do better?\n",
    "- Batch normalization: Try adding spatial batch normalization after convolution layers and vanilla batch normalization aafter affine layers. Do your networks train faster?\n",
    "- Network architecture: The network above has two layers of trainable parameters. Can you do better with a deeper network? You can implement alternative architectures in the file `code/classifiers/convnet.py`. Some good architectures to try include:\n",
    "    - [conv-relu-pool]xN - conv - relu - [affine]xM - [softmax or SVM]\n",
    "    - [conv-relu-pool]XN - [affine]XM - [softmax or SVM]\n",
    "    - [conv-relu-conv-relu-pool]xN - [affine]xM - [softmax or SVM]\n",
    "\n",
    "### Tips for training\n",
    "For each network architecture that you try, you should tune the learning rate and regularization strength. When doing this there are a couple important things to keep in mind:\n",
    "\n",
    "- If the parameters are working well, you should see improvement within a few hundred iterations\n",
    "- Remember the course-to-fine approach for hyperparameter tuning: start by testing a large range of hyperparameters for just a few training iterations to find the combinations of parameters that are working at all.\n",
    "- Once you have found some sets of parameters that seem to work, search more finely around these parameters. You may need to train for more epochs.\n",
    "\n",
    "### Going above and beyond\n",
    "If you are feeling adventurous there are many other features you can implement to try and improve your performance. You are **not required** to implement any of these; however they would be good things to try for extra credit.\n",
    "\n",
    "- Alternative update steps: For the assignment we implemented SGD+momentum, RMSprop, and Adam; you could try alternatives like AdaGrad or AdaDelta.\n",
    "- Alternative activation functions such as leaky ReLU, parametric ReLU, or MaxOut.\n",
    "- Model ensembles\n",
    "- Data augmentation\n",
    "\n",
    "If you do decide to implement something extra, clearly describe it in the \"Extra Credit Description\" cell below.\n",
    "\n",
    "### What we expect\n",
    "At the very least, you should be able to train a ConvNet that gets at least 65% accuracy on the validation set. This is just a lower bound - if you are careful it should be possible to get accuracies much higher than that! Extra credit points will be awarded for particularly high-scoring models or unique approaches.\n",
    "\n",
    "You should use the space below to experiment and train your network. The final cell in this notebook should contain the training, validation, and test set accuracies for your final trained network. In this notebook you should also write an explanation of what you did, any additional features that you implemented, and any visualizations or graphs that you make in the process of training and evaluating your network.\n",
    "\n",
    "Have fun and happy training!"
   ]
  },
  {
   "cell_type": "code",
   "execution_count": 25,
   "metadata": {
    "collapsed": false
   },
   "outputs": [
    {
     "name": "stdout",
     "output_type": "stream",
     "text": [
      "(Iteration 1 / 980) loss: 2.306510\n",
      "(Epoch 0 / 1) train acc: 0.120000; val_acc: 0.078000\n",
      "(Iteration 21 / 980) loss: 2.002744\n",
      "(Iteration 41 / 980) loss: 2.112449\n",
      "(Iteration 61 / 980) loss: 1.876420\n",
      "(Iteration 81 / 980) loss: 1.912982\n",
      "(Iteration 101 / 980) loss: 1.559470\n",
      "(Iteration 121 / 980) loss: 1.766999\n",
      "(Iteration 141 / 980) loss: 1.667226\n",
      "(Iteration 161 / 980) loss: 1.604262\n",
      "(Iteration 181 / 980) loss: 1.829723\n",
      "(Iteration 201 / 980) loss: 1.326141\n",
      "(Iteration 221 / 980) loss: 1.669578\n",
      "(Iteration 241 / 980) loss: 1.697812\n",
      "(Iteration 261 / 980) loss: 1.502303\n",
      "(Iteration 281 / 980) loss: 1.468298\n",
      "(Iteration 301 / 980) loss: 1.735126\n",
      "(Iteration 321 / 980) loss: 1.705144\n",
      "(Iteration 341 / 980) loss: 1.428151\n",
      "(Iteration 361 / 980) loss: 1.629662\n",
      "(Iteration 381 / 980) loss: 1.120795\n",
      "(Iteration 401 / 980) loss: 1.652144\n",
      "(Iteration 421 / 980) loss: 1.491282\n",
      "(Iteration 441 / 980) loss: 1.654344\n",
      "(Iteration 461 / 980) loss: 1.321427\n",
      "(Iteration 481 / 980) loss: 1.558859\n",
      "(Iteration 501 / 980) loss: 1.752879\n",
      "(Iteration 521 / 980) loss: 1.467809\n",
      "(Iteration 541 / 980) loss: 1.567111\n",
      "(Iteration 561 / 980) loss: 1.594592\n",
      "(Iteration 581 / 980) loss: 1.365413\n",
      "(Iteration 601 / 980) loss: 1.630039\n",
      "(Iteration 621 / 980) loss: 1.847397\n",
      "(Iteration 641 / 980) loss: 1.489859\n",
      "(Iteration 661 / 980) loss: 1.604622\n",
      "(Iteration 681 / 980) loss: 1.288680\n",
      "(Iteration 701 / 980) loss: 1.781055\n",
      "(Iteration 721 / 980) loss: 1.571125\n",
      "(Iteration 741 / 980) loss: 1.477244\n",
      "(Iteration 761 / 980) loss: 1.770783\n",
      "(Iteration 781 / 980) loss: 1.509995\n",
      "(Iteration 801 / 980) loss: 1.562207\n",
      "(Iteration 821 / 980) loss: 1.778559\n",
      "(Iteration 841 / 980) loss: 1.311077\n",
      "(Iteration 861 / 980) loss: 1.386148\n",
      "(Iteration 881 / 980) loss: 1.363861\n",
      "(Iteration 901 / 980) loss: 1.326632\n",
      "(Iteration 921 / 980) loss: 1.546754\n",
      "(Iteration 941 / 980) loss: 1.498746\n",
      "(Iteration 961 / 980) loss: 1.483621\n",
      "(Epoch 1 / 1) train acc: 0.498000; val_acc: 0.504000\n"
     ]
    },
    {
     "data": {
      "text/plain": [
       "0.48499999999999999"
      ]
     },
     "execution_count": 25,
     "metadata": {},
     "output_type": "execute_result"
    }
   ],
   "source": [
    "# Train a really good model on CIFAR-10\n",
    "model = ThreeLayerConvNet(weight_scale=0.001, hidden_dim=500, reg=0.001, filter_size=3, num_filters=60)\n",
    "\n",
    "solver = Solver(model, data,\n",
    "                num_epochs=1, batch_size=50,\n",
    "                update_rule='adam',\n",
    "                optim_config={\n",
    "                  'learning_rate': 1e-3,\n",
    "                },\n",
    "                verbose=True, print_every=20)\n",
    "solver.train()\n",
    "solver.check_accuracy(data['X_test'], data['y_test'])"
   ]
  },
  {
   "cell_type": "markdown",
   "metadata": {},
   "source": [
    "# Extra Credit Description\n",
    "If you implement any additional features for extra credit, clearly describe them here with pointers to any code in this or other files if applicable."
   ]
  }
 ],
 "metadata": {
  "kernelspec": {
   "display_name": "Python [Root]",
   "language": "python",
   "name": "Python [Root]"
  },
  "language_info": {
   "codemirror_mode": {
    "name": "ipython",
    "version": 2
   },
   "file_extension": ".py",
   "mimetype": "text/x-python",
   "name": "python",
   "nbconvert_exporter": "python",
   "pygments_lexer": "ipython2",
   "version": "2.7.12"
  }
 },
 "nbformat": 4,
 "nbformat_minor": 0
}
